{
  "cells": [
    {
      "cell_type": "code",
      "execution_count": null,
      "metadata": {
        "id": "GqahId9LWsc1"
      },
      "outputs": [],
      "source": []
    },
    {
      "cell_type": "markdown",
      "metadata": {
        "id": "T64GgIXyW4Qz"
      },
      "source": [
        "CODELAB"
      ]
    },
    {
      "cell_type": "markdown",
      "metadata": {
        "id": "f-rNdmJOXMBi"
      },
      "source": [
        "CODELAB 1\n"
      ]
    },
    {
      "cell_type": "markdown",
      "metadata": {
        "id": "fUj4H1Pi1x6j"
      },
      "source": [
        "a. Ubahlah fungsi ‘tambah_nilai’ yang ada pada halaman 4 bab Pure Function berikut menjadi sebuah pure function sesuai dengan step yang sudah dijelaskan!"
      ]
    },
    {
      "cell_type": "code",
      "execution_count": 1,
      "metadata": {
        "colab": {
          "base_uri": "https://localhost:8080/"
        },
        "id": "8LB-pnIZPd1m",
        "outputId": "0c3fc533-9ba2-4118-b359-ed60c5b0ab77"
      },
      "outputs": [
        {
          "name": "stdout",
          "output_type": "stream",
          "text": [
            "Nilai awal: [{'matkul': 'Fungsional', 'nilai': 95}, {'matkul': 'Mobile', 'nilai': 55}]\n",
            "Nilai update: [{'matkul': 'Fungsional', 'nilai': 100}, {'matkul': 'Mobile', 'nilai': 55}]\n",
            "Nilai Fungsional ditambahkan 5. Total nilai Fungsional saat ini 100\n"
          ]
        }
      ],
      "source": [
        "def tambah_nilai(nilai, nama_matkul, jumlah_nilai):\n",
        "\n",
        "    nilai_baru = [item.copy() for item in nilai]  # Membuat salinan dari list nilai\n",
        "    pesan = \"\"\n",
        "\n",
        "    for item in nilai_baru:\n",
        "        if item['matkul'] == nama_matkul:\n",
        "            item['nilai'] += jumlah_nilai\n",
        "            pesan = f\"Nilai {nama_matkul} ditambahkan {jumlah_nilai}. Total nilai {nama_matkul} saat ini {item['nilai']}\"\n",
        "            break\n",
        "    else:\n",
        "        pesan = f\"Mata kuliah {nama_matkul} tidak ditemukan dalam daftar!\"\n",
        "\n",
        "    return nilai_baru, pesan\n",
        "\n",
        "# Data awal\n",
        "nilai = [\n",
        "    {'matkul': 'Fungsional', 'nilai': 95},\n",
        "    {'matkul': 'Mobile', 'nilai': 55}\n",
        "]\n",
        "\n",
        "# Panggil fungsi tambah_nilai\n",
        "nilai_baru, pesan = tambah_nilai(nilai, 'Fungsional', 5)\n",
        "\n",
        "# Cek nilai awal\n",
        "print(\"Nilai awal:\", nilai)\n",
        "\n",
        "# Cek nilai hasil tambah_nilai\n",
        "print(\"Nilai update:\", nilai_baru)\n",
        "print(pesan)"
      ]
    },
    {
      "cell_type": "markdown",
      "metadata": {
        "id": "d58Z0rGhRtOP"
      },
      "source": [
        "b. Tambahkan fungsi generator ‘cetak_nilai’ untuk menampilkan data nilai. Panggil fungsinya dan cetak data generator dengan looping for untuk nim GANJIL dan fungsi next() untuk nim GENAP!!"
      ]
    },
    {
      "cell_type": "code",
      "execution_count": 2,
      "metadata": {
        "colab": {
          "base_uri": "https://localhost:8080/"
        },
        "id": "CPq3aFeShSXK",
        "outputId": "7fc4ec9b-99cd-45a9-87fb-62fe5b5156dd"
      },
      "outputs": [
        {
          "name": "stdout",
          "output_type": "stream",
          "text": [
            "Output untuk NIM ganjil:\n",
            "Mata Kuliah: Matematika, Nilai: 90\n",
            "Mata Kuliah: Fisika, Nilai: 85\n",
            "Mata Kuliah: Kimia, Nilai: 88\n",
            "\n",
            "Output untuk NIM genap:\n",
            "Mata Kuliah: Matematika, Nilai: 90\n",
            "Mata Kuliah: Fisika, Nilai: 85\n",
            "Mata Kuliah: Kimia, Nilai: 88\n",
            "Semua data telah dicetak.\n"
          ]
        }
      ],
      "source": [
        "# Definisikan nilai_baru\n",
        "nilai_baru = [\n",
        "    {\"matkul\": \"Matematika\", \"nilai\": 90},\n",
        "    {\"matkul\": \"Fisika\", \"nilai\": 85},\n",
        "    {\"matkul\": \"Kimia\", \"nilai\": 88},\n",
        "]\n",
        "\n",
        "def cetak_nilai(nilai):\n",
        "    for item in nilai:\n",
        "        yield item\n",
        "\n",
        "# Panggil fungsi cetak_nilai\n",
        "gen = cetak_nilai(nilai_baru)\n",
        "\n",
        "# Untuk NIM ganjil: menggunakan loop for\n",
        "print(\"Output untuk NIM ganjil:\")\n",
        "for item in gen:\n",
        "    print(f\"Mata Kuliah: {item['matkul']}, Nilai: {item['nilai']}\")\n",
        "\n",
        "# Untuk NIM genap: menggunakan next()\n",
        "# Perlu diinisialisasi ulang karena generator sudah habis setelah loop sebelumnya\n",
        "gen = cetak_nilai(nilai_baru)\n",
        "print(\"\\nOutput untuk NIM genap:\")\n",
        "try:\n",
        "    while True:\n",
        "        item = next(gen)\n",
        "        print(f\"Mata Kuliah: {item['matkul']}, Nilai: {item['nilai']}\")\n",
        "except StopIteration:\n",
        "    print(\"Semua data telah dicetak.\")\n"
      ]
    },
    {
      "cell_type": "markdown",
      "metadata": {
        "id": "-3dZFSF74ng8"
      },
      "source": [
        "### **CODELAB 2**\n",
        " Telah disediakan struktur data global berupa list 'data mahasiswa' yang digunakan untuk menghitung nilai mahasiswa. Setiap nilai direpresentasikan sebagai dictionary dengan atribut 'nama', 'matkul', dan 'nilai'."
      ]
    },
    {
      "cell_type": "code",
      "execution_count": null,
      "metadata": {
        "id": "Z1cjgLaj5JfC"
      },
      "outputs": [],
      "source": [
        "data_mahasiswa = [\n",
        "    {'nama': 'Karina', 'matkul': 'Pemrograman Fungsional', 'nilai': 90},\n",
        "    {'nama': 'Seulgi', 'matkul': 'Pemrograman Mobile', 'nilai': 56},\n",
        "    {'nama': 'Wonyoung', 'matkul': 'Pemrograman Web', 'nilai': 95},\n",
        "    {'nama': 'Hanni', 'matkul': 'Piranti Cerdas', 'nilai': 88},\n",
        "    {'nama': 'Jihyo', 'matkul': 'Jaringan Komputer', 'nilai': 63},\n",
        "]"
      ]
    },
    {
      "cell_type": "markdown",
      "metadata": {
        "id": "5kAlXn3L6Xyz"
      },
      "source": [
        "a. Buatlah fungsi ‘rata_rata’ yang menghasilkan nilai rata-rata dari kelima mahasiswa tersebut. Gunakan pure function dan implementasikan fungsi deklaratif."
      ]
    },
    {
      "cell_type": "code",
      "execution_count": null,
      "metadata": {
        "colab": {
          "base_uri": "https://localhost:8080/"
        },
        "id": "GtgNLkLs6Wp-",
        "outputId": "12afd746-fd6f-4966-e49c-b9a566930020"
      },
      "outputs": [
        {
          "name": "stdout",
          "output_type": "stream",
          "text": [
            "Rata-rata nilai kelima mahasiswa tersebut adalah: 78.4\n"
          ]
        }
      ],
      "source": [
        "data_mahasiswa = [\n",
        "    {'nama': 'Karina', 'matkul': 'Pemrograman Fungsional', 'nilai': 90},\n",
        "    {'nama': 'Seulgi', 'matkul': 'Pemrograman Mobile', 'nilai': 56},\n",
        "    {'nama': 'Wonyoung', 'matkul': 'Pemrograman Web', 'nilai': 95},\n",
        "    {'nama': 'Hanni', 'matkul': 'Piranti Cerdas', 'nilai': 88},\n",
        "    {'nama': 'Jihyo', 'matkul': 'Jaringan Komputer', 'nilai': 63},\n",
        "]\n",
        "def rata_rata(data):\n",
        "    return sum(mahasiswa['nilai'] for mahasiswa in data) / len(data)\n",
        "\n",
        "# Panggil fungsi rata_rata() dan tampilkan hasilnya\n",
        "print(\"Rata-rata nilai kelima mahasiswa tersebut adalah:\", rata_rata(data_mahasiswa))"
      ]
    },
    {
      "cell_type": "markdown",
      "metadata": {
        "id": "BqXKmQUq8ajF"
      },
      "source": [
        "b. Buatlah sebuah fungsi 'kelulusan' yang menerima input data_mahasiswa dan mengembalikan daftar baru dari data_mahasiswa dengan mengubah value nilai menjadi  ‘sempurna’ untuk nilai 85 keatas, ‘memenuhi’ untuk nilai kurang dari 85 dan ‘gagal’ untuk nilai dibawah 60. dan tampilkan hasilnya"
      ]
    },
    {
      "cell_type": "code",
      "execution_count": null,
      "metadata": {
        "colab": {
          "base_uri": "https://localhost:8080/"
        },
        "id": "RHNYS9bbcYKB",
        "outputId": "a3784034-5ffd-408a-c1c9-a3a6453dc963"
      },
      "outputs": [
        {
          "name": "stdout",
          "output_type": "stream",
          "text": [
            "\n",
            "Data Kelulusan Mahasiswa:\n",
            "============================================================\n",
            "Nama            Mata Kuliah               Nilai      Status    \n",
            "------------------------------------------------------------\n",
            "Karina          Pemrograman Fungsional    90         sempurna  \n",
            "Seulgi          Pemrograman Mobile        56         gagal     \n",
            "Wonyoung        Pemrograman Web           95         sempurna  \n",
            "Hanni           Piranti Cerdas            88         sempurna  \n",
            "Jihyo           Jaringan Komputer         63         memenuhi  \n",
            "============================================================\n"
          ]
        }
      ],
      "source": [
        "# Data mahasiswa\n",
        "data_mahasiswa = [\n",
        "    {'nama': 'Karina', 'matkul': 'Pemrograman Fungsional', 'nilai': 90},\n",
        "    {'nama': 'Seulgi', 'matkul': 'Pemrograman Mobile', 'nilai': 56},\n",
        "    {'nama': 'Wonyoung', 'matkul': 'Pemrograman Web', 'nilai': 95},\n",
        "    {'nama': 'Hanni', 'matkul': 'Piranti Cerdas', 'nilai': 88},\n",
        "    {'nama': 'Jihyo', 'matkul': 'Jaringan Komputer', 'nilai': 63},\n",
        "]\n",
        "\n",
        "def kelulusan(data):\n",
        "    def status_nilai(nilai):\n",
        "        if nilai >= 85:\n",
        "            return 'sempurna'\n",
        "        elif nilai >= 60:\n",
        "            return 'memenuhi'\n",
        "        else:\n",
        "            return 'gagal'\n",
        "\n",
        "    return [{**mahasiswa, 'status': status_nilai(mahasiswa['nilai'])} for mahasiswa in data]\n",
        "\n",
        "# Panggil fungsi dan tampilkan hasilnya dengan format yang lebih rapi\n",
        "hasil_kelulusan = kelulusan(data_mahasiswa)\n",
        "\n",
        "print(\"\\nData Kelulusan Mahasiswa:\")\n",
        "print(\"=\" * 60)\n",
        "print(f\"{'Nama':<15} {'Mata Kuliah':<25} {'Nilai':<10} {'Status':<10}\")\n",
        "print(\"-\" * 60)\n",
        "for mhs in hasil_kelulusan:\n",
        "    print(f\"{mhs['nama']:<15} {mhs['matkul']:<25} {mhs['nilai']:<10} {mhs['status']:<10}\")\n",
        "print(\"=\" * 60)"
      ]
    },
    {
      "cell_type": "markdown",
      "metadata": {
        "id": "1Nzvqfd4_4JZ"
      },
      "source": [
        "c.  Buatlah sebuah fungsi generator untuk mencetak nilai dari daftar nilai mahasiswa tersebut sesuai NIM akhir kalian. Jika NIM akhir genap, maka cetaklah nilai yang genap saja. Jika NIM ganjil, maka cetaklah nilai ganjil saja."
      ]
    },
    {
      "cell_type": "code",
      "execution_count": null,
      "metadata": {
        "colab": {
          "base_uri": "https://localhost:8080/"
        },
        "id": "jHEFqyRaf_Jm",
        "outputId": "09fcd585-81d0-4a81-8bfe-2162772721e4"
      },
      "outputs": [
        {
          "name": "stdout",
          "output_type": "stream",
          "text": [
            "Data mahasiswa dengan nilai ganjil:\n",
            "Nama: Wonyoung, Matkul: Pemrograman Web, Nilai: 95\n",
            "Nama: Jihyo, Matkul: Jaringan Komputer, Nilai: 63\n"
          ]
        }
      ],
      "source": [
        "def cetak_nilai_ganjil(data):\n",
        "    for mahasiswa in data:\n",
        "        if mahasiswa['nilai'] % 2 != 0:\n",
        "            yield mahasiswa\n",
        "\n",
        "def cetak_nilai_genap(data):\n",
        "    for mahasiswa in data:\n",
        "        if mahasiswa['nilai'] % 2 == 0:\n",
        "            yield mahasiswa\n",
        "\n",
        "# Ganti fungsi sesuai dengan NIM Anda (ganjil atau genap)\n",
        "generator = cetak_nilai_ganjil(data_mahasiswa)  # Atau cetak_nilai_genap(data_mahasiswa)\n",
        "\n",
        "# Menampilkan hasil dari generator object\n",
        "print(\"Data mahasiswa dengan nilai ganjil:\")  # Atau \"Data mahasiswa dengan nilai genap:\"\n",
        "for mahasiswa in generator:\n",
        "    print(f\"Nama: {mahasiswa['nama']}, Matkul: {mahasiswa['matkul']}, Nilai: {mahasiswa['nilai']}\")"
      ]
    },
    {
      "cell_type": "markdown",
      "metadata": {
        "id": "4XUzhs4Q0_No"
      },
      "source": [
        "## **CODELAB 3**\n",
        "Buat generator expression yang akan menyimpan bilangan kelipatan dari tanggal lahir kalian (menggunakan input) dalam range(1000) dan tampilkan 10 data pertama dengan ketentuan:\n",
        "\n",
        "  a. NIM genap: gunakan teknik casting list dan slicing\n",
        "\n",
        "  b. NIM ganjil: gunakan looping dan method next()"
      ]
    },
    {
      "cell_type": "code",
      "execution_count": null,
      "metadata": {
        "colab": {
          "base_uri": "https://localhost:8080/"
        },
        "id": "xjuYwIfF1WOJ",
        "outputId": "da7d59ed-32c7-4c79-beca-82c5ff6cbb0f"
      },
      "outputs": [
        {
          "name": "stdout",
          "output_type": "stream",
          "text": [
            "Masukkan tanggal lahir anda: 6\n",
            "10 data pertama:\n",
            "0\n",
            "6\n",
            "12\n",
            "18\n",
            "24\n",
            "30\n",
            "36\n",
            "42\n",
            "48\n",
            "54\n"
          ]
        }
      ],
      "source": [
        "# TO_DO 1: menerima input tanggal lahir\n",
        "tanggal_lahir = int(input(\"Masukkan tanggal lahir anda: \"))\n",
        "\n",
        "# TO_DO 2: membuat generator expression\n",
        "generator_kelipatan = (x for x in range(1000) if x % tanggal_lahir == 0)\n",
        "\n",
        "# TO_DO 3: mencetak hasil menggunakan looping dan method next()\n",
        "print(\"10 data pertama:\")\n",
        "for _ in range(10):\n",
        "    print(next(generator_kelipatan))\n"
      ]
    }
  ],
  "metadata": {
    "colab": {
      "provenance": []
    },
    "kernelspec": {
      "display_name": "Python 3",
      "name": "python3"
    },
    "language_info": {
      "codemirror_mode": {
        "name": "ipython",
        "version": 3
      },
      "file_extension": ".py",
      "mimetype": "text/x-python",
      "name": "python",
      "nbconvert_exporter": "python",
      "pygments_lexer": "ipython3",
      "version": "3.12.0"
    }
  },
  "nbformat": 4,
  "nbformat_minor": 0
}
